{
 "cells": [
  {
   "cell_type": "code",
   "execution_count": 2,
   "metadata": {},
   "outputs": [],
   "source": [
    "import os\n",
    "import json\n",
    "import time\n",
    "import numpy as np\n",
    "import matplotlib.pyplot as plt\n",
    "from PIL import Image\n",
    "import torch\n",
    "import torch.nn as nn\n",
    "import torch.nn.functional as F\n",
    "import torch.optim as optim\n",
    "from torch.utils.data.dataset import Subset\n",
    "import torchvision\n",
    "import torchvision.transforms as transforms\n",
    "\n",
    "from net.AutoEncoder import AutoEncoder\n",
    "from dataloader.cifar import CustomCifar\n",
    "from dataloader.dataset import CustomDataset\n",
    "\n",
    "%matplotlib inline"
   ]
  },
  {
   "cell_type": "code",
   "execution_count": null,
   "metadata": {},
   "outputs": [],
   "source": [
    "EPOCHS = 100\n",
    "LR = 2e-3\n",
    "BATCH_SIZE = 10\n"
   ]
  },
  {
   "cell_type": "code",
   "execution_count": 1,
   "metadata": {},
   "outputs": [
    {
     "name": "stdout",
     "output_type": "stream",
     "text": [
      "Files already downloaded and verified\n",
      "Files already downloaded and verified\n",
      "Training Start\n",
      "Epoch 1  Loss:0.19341260194778442 62.07779574394226 sec\n",
      "Epoch 2  Loss:0.24560460448265076 63.22677230834961 sec\n",
      "Epoch 3  Loss:0.2187345176935196 62.785807847976685 sec\n",
      "Epoch 4  Loss:0.20862294733524323 62.21060013771057 sec\n",
      "Epoch 5  Loss:0.23071101307868958 62.17970538139343 sec\n",
      "Epoch 6  Loss:0.18029704689979553 61.67975330352783 sec\n",
      "Epoch 7  Loss:0.2779805064201355 62.01857089996338 sec\n",
      "Epoch 8  Loss:0.20219603180885315 63.21347665786743 sec\n",
      "Epoch 9  Loss:0.26968619227409363 62.458977699279785 sec\n",
      "Epoch 10  Loss:0.21476934850215912 62.72200393676758 sec\n"
     ]
    }
   ],
   "source": [
    "transform = transforms.Compose([\n",
    "    transforms.ToTensor(),\n",
    "    transforms.Normalize((0.5, 0.5, 0.5), (0.5, 0.5, 0.5))\n",
    "])\n",
    "\n",
    "# cifar10 = CustomCifar()\n",
    "# cifar10.get_full_dataset()\n",
    "\n",
    "# trainset = CustomDataset(cifar10.data, cifar10.targets, transform=transform)\n",
    "trainset = torchvision.datasets.CIFAR10(\n",
    "    root=\"./data\", train=True, download=True, transform=transform)\n",
    "testset = torchvision.datasets.CIFAR10(\n",
    "    root=\"./data\", train=False, download=True, transform=transform)\n",
    "\n",
    "trainloader = torch.utils.data.DataLoader(\n",
    "    trainset, batch_size=BATCH_SIZE, shuffle=True, num_workers=2, drop_last=True)\n",
    "testloader = torch.utils.data.DataLoader(\n",
    "    testset, batch_size=BATCH_SIZE, shuffle=False, num_workers=2, drop_last=True)\n",
    "\n",
    "\n",
    "iter_losses = []\n",
    "epoch_losses = []\n",
    "\n",
    "net = AutoEncoder()\n",
    "loss_function = nn.MSELoss()\n",
    "optimizer = optim.SGD(net.parameters(), lr=LR, momentum=0.9)\n",
    "\n",
    "save_dir = f'./ckpt/SGD_{LR}_MSE_batch{BATCH_SIZE}_{EPOCHS}epoch/'\n",
    "\n",
    "os.makedirs(save_dir, exist_ok=True)\n",
    "\n",
    "DEVICE = torch.device('cuda:0' if torch.cuda.is_available() else 'cpu')\n",
    "\n",
    "print(\"Training Start\")\n",
    "for epoch in range(EPOCHS):\n",
    "  start = time.time()\n",
    "  for image, _ in trainloader:\n",
    "    image = image.reshape(-1, 3 * 32 * 32)\n",
    "\n",
    "    image.to(DEVICE)\n",
    "\n",
    "    reconstructed = net(image)\n",
    "\n",
    "    loss = loss_function(reconstructed, image)\n",
    "\n",
    "    optimizer.zero_grad()\n",
    "    loss.backward()\n",
    "    optimizer.step()\n",
    "\n",
    "    iter_losses.append(loss.item())\n",
    "\n",
    "  epoch_losses.append(loss.item())\n",
    "  duration = time.time() - start\n",
    "  print(f\"Epoch {epoch + 1}  Loss:{loss.item()} {round(duration,2)}sec\")\n",
    "  if epoch % 10 == 0:\n",
    "    torch.save(net.state_dict(),\n",
    "               save_dir + f'model_{epoch // 10}.pth'\n",
    "               )\n",
    "\n",
    "    loss_dict = {'iter_loss': iter_losses,'epoch_loss': epoch_losses}\n",
    "    with open(save_dir + 'loss.json', 'w') as f:\n",
    "      json.dump(loss_dict, f)\n"
   ]
  },
  {
   "cell_type": "code",
   "execution_count": 3,
   "metadata": {},
   "outputs": [
    {
     "data": {
      "text/plain": [
       "[<matplotlib.lines.Line2D at 0x7f2d97f48dc0>]"
      ]
     },
     "execution_count": 3,
     "metadata": {},
     "output_type": "execute_result"
    },
    {
     "data": {
      "image/png": "[encoded data removed]",
      "text/plain": [
       "<Figure size 432x288 with 1 Axes>"
      ]
     },
     "metadata": {
      "needs_background": "light"
     },
     "output_type": "display_data"
    }
   ],
   "source": [
    "with open('./ckpt/SGD_0.2_MSE_batch50_100epoch_unbalanced/loss.json') as f:\n",
    "  losses = json.loads(f.read())\n",
    "\n",
    "plt.xlabel('Epochs', fontsize=10)\n",
    "plt.ylabel('Loss', fontsize=10)\n",
    "\n",
    "# plt.xticks(range(0, 500000, 50000),fontsize=8)\n",
    "plt.yticks(fontsize=8)\n",
    "\n",
    "plt.plot(losses['loss'])\n"
   ]
  },
  {
   "cell_type": "code",
   "execution_count": null,
   "metadata": {},
   "outputs": [],
   "source": []
  }
 ],
 "metadata": {
  "interpreter": {
   "hash": "35b3fee8b4c603ff361939fc0cc71469b75d25ef71ff66c03f6d1c6b9bd77c8b"
  },
  "kernelspec": {
   "display_name": "Python 3.8.12 64-bit ('torch': conda)",
   "name": "python3"
  },
  "language_info": {
   "codemirror_mode": {
    "name": "ipython",
    "version": 3
   },
   "file_extension": ".py",
   "mimetype": "text/x-python",
   "name": "python",
   "nbconvert_exporter": "python",
   "pygments_lexer": "ipython3",
   "version": "3.8.12"
  },
  "orig_nbformat": 4
 },
 "nbformat": 4,
 "nbformat_minor": 2
}
